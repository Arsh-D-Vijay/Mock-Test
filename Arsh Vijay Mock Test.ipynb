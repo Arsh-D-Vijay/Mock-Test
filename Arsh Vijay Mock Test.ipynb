{
 "cells": [
  {
   "cell_type": "markdown",
   "id": "50535168",
   "metadata": {},
   "source": [
    "### Name: Arsh Dinesh Vijayvargiya\n",
    "### INFYTQ MOCK TEST"
   ]
  },
  {
   "cell_type": "code",
   "execution_count": 1,
   "id": "624ff4ea",
   "metadata": {},
   "outputs": [],
   "source": [
    "#Q1\n",
    "def solver(nums, target):\n",
    "    idx_dic = {}\n",
    "    for i, j in enumerate(nums):\n",
    "        rem = target - j\n",
    "        if rem in idx_dic:\n",
    "            return [i, idx_dic[rem]]   \n",
    "        idx_dic[j] = i "
   ]
  },
  {
   "cell_type": "code",
   "execution_count": 2,
   "id": "e023016d",
   "metadata": {},
   "outputs": [
    {
     "data": {
      "text/plain": [
       "[2, 1]"
      ]
     },
     "execution_count": 2,
     "metadata": {},
     "output_type": "execute_result"
    }
   ],
   "source": [
    "# Test Cases\n",
    "l1 = [3,2,4]\n",
    "t1 = 6\n",
    "solver(l1,t1)"
   ]
  },
  {
   "cell_type": "code",
   "execution_count": 6,
   "id": "4de627ca",
   "metadata": {},
   "outputs": [],
   "source": [
    "#Q2\n",
    "def solver2():\n",
    "    di = {}\n",
    "    for _ in range(int(input())):\n",
    "        name = input()\n",
    "        marks = float(input())\n",
    "        if marks in di:\n",
    "            di[marks].append(name)\n",
    "        else:\n",
    "            di[marks] = [name]\n",
    "\n",
    "    sec =  sorted(di.keys())[1]\n",
    "    print(\"---------------------\\n\\n\")\n",
    "    print('\\n'.join(sorted(name for name in di[sec])))\n",
    "\n"
   ]
  },
  {
   "cell_type": "code",
   "execution_count": 7,
   "id": "163e5b5f",
   "metadata": {},
   "outputs": [
    {
     "name": "stdout",
     "output_type": "stream",
     "text": [
      "5\n",
      "Hemant\n",
      "23.12\n",
      "Arjun\n",
      "42.11\n",
      "Karan\n",
      "23.12\n",
      "Mehul\n",
      "42.11\n",
      "Aakash\n",
      "44\n",
      "---------------------\n",
      "\n",
      "\n",
      "Arjun\n",
      "Mehul\n"
     ]
    }
   ],
   "source": [
    "solver2()"
   ]
  },
  {
   "cell_type": "code",
   "execution_count": null,
   "id": "d7f0178f",
   "metadata": {},
   "outputs": [],
   "source": []
  }
 ],
 "metadata": {
  "kernelspec": {
   "display_name": "Python 3",
   "language": "python",
   "name": "python3"
  },
  "language_info": {
   "codemirror_mode": {
    "name": "ipython",
    "version": 3
   },
   "file_extension": ".py",
   "mimetype": "text/x-python",
   "name": "python",
   "nbconvert_exporter": "python",
   "pygments_lexer": "ipython3",
   "version": "3.8.10"
  }
 },
 "nbformat": 4,
 "nbformat_minor": 5
}
