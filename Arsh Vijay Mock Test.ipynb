{
 "cells": [
  {
   "cell_type": "markdown",
   "id": "50535168",
   "metadata": {},
   "source": [
    "### Name: Arsh Dinesh Vijayvargiya\n",
    "### INFYTQ MOCK TEST"
   ]
  },
  {
   "cell_type": "code",
   "execution_count": 1,
   "id": "624ff4ea",
   "metadata": {},
   "outputs": [],
   "source": [
    "#Q1\n",
    "def solver(nums, target):\n",
    "    idx_dic = {}\n",
    "    for i, j in enumerate(nums):\n",
    "        rem = target - j\n",
    "        if rem in idx_dic:\n",
    "            return [i, idx_dic[rem]]   \n",
    "        idx_dic[j] = i "
   ]
  },
  {
   "cell_type": "code",
   "execution_count": 2,
   "id": "e023016d",
   "metadata": {},
   "outputs": [
    {
     "data": {
      "text/plain": [
       "[2, 1]"
      ]
     },
     "execution_count": 2,
     "metadata": {},
     "output_type": "execute_result"
    }
   ],
   "source": [
    "# Test Cases\n",
    "l1 = [3,2,4]\n",
    "t1 = 6\n",
    "solver(l1,t1)"
   ]
  },
  {
   "cell_type": "code",
   "execution_count": 3,
   "id": "4de627ca",
   "metadata": {},
   "outputs": [],
   "source": [
    "#Q2\n",
    "def solver2():\n",
    "    li = []\n",
    "    for _ in range(int(input())):\n",
    "        name = input()\n",
    "        marks = float(input())\n",
    "        li.append([name, marks])\n",
    "\n",
    "    sec =  sorted(set([marks for name, marks in li]))[1]\n",
    "    \n",
    "    print('\\n'.join(sorted(name for name, marks in li if marks ==sec )))\n",
    "\n"
   ]
  },
  {
   "cell_type": "code",
   "execution_count": 4,
   "id": "163e5b5f",
   "metadata": {},
   "outputs": [
    {
     "name": "stdout",
     "output_type": "stream",
     "text": [
      "3\n",
      "Hem\n",
      "12\n",
      "Fa\n",
      "23\n",
      "Ra\n",
      "23\n",
      "Fa\n",
      "Ra\n"
     ]
    }
   ],
   "source": [
    "solver2()"
   ]
  },
  {
   "cell_type": "code",
   "execution_count": null,
   "id": "d7f0178f",
   "metadata": {},
   "outputs": [],
   "source": []
  }
 ],
 "metadata": {
  "kernelspec": {
   "display_name": "Python 3",
   "language": "python",
   "name": "python3"
  },
  "language_info": {
   "codemirror_mode": {
    "name": "ipython",
    "version": 3
   },
   "file_extension": ".py",
   "mimetype": "text/x-python",
   "name": "python",
   "nbconvert_exporter": "python",
   "pygments_lexer": "ipython3",
   "version": "3.8.10"
  }
 },
 "nbformat": 4,
 "nbformat_minor": 5
}
